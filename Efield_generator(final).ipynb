{
 "cells": [
  {
   "cell_type": "code",
   "execution_count": 1,
   "metadata": {},
   "outputs": [],
   "source": [
    "import numpy as np\n",
    "from pylab import *\n",
    "import random "
   ]
  },
  {
   "cell_type": "code",
   "execution_count": 2,
   "metadata": {},
   "outputs": [],
   "source": [
    "#removed the plots in order to reiterate a high number of times\n",
    "u =[]\n",
    "v =[]\n",
    "uu = []\n",
    "vv =[]\n",
    "qq = []\n",
    "num_images = 5000\n",
    "for iter in range(num_images):\n",
    "    L = 20 # Number of points in x-coordinate and y-coordinate each\n",
    "\n",
    "\n",
    "    a, b = np.arange(0, L, 1), np.arange(0, L, 1) \n",
    "    X , Y = np.meshgrid(a, b) \n",
    "\n",
    "\n",
    "    Ex = np.zeros([L,L])         # 2D array to store the Ex and\n",
    "    Ey = np.zeros([L,L])         # Ey components\n",
    "\n",
    "\n",
    "    #will need to create a list of random locations for the charges\n",
    "    #nq = random.choice([1,2])\n",
    "    nq = random.randint(1,4)\n",
    "    qq.append(nq)\n",
    "    Q = [[],[]]\n",
    "    for rand_variable in range(nq): \n",
    "        q = random.choice([-1,1]) #indicates charge is poistive or negative\n",
    "        qx = random.randrange(1,L) #indicates the positions of the charge in the x^hat\n",
    "        qy = random.randrange(1,L) #indicates the positions of the charge in the y^hat\n",
    "        Q[0].append(qy)\n",
    "        Q[1].append(qx)\n",
    "        for i in range(L): # calculate Ex and Ey at each point in the grid, due to all charges\n",
    "            for j in range(L): \n",
    "                denom = ((i - qx) ** 2.0 + (j - qy) ** 2.0)**1.5\n",
    "                if denom != 0: \n",
    "                    Ex[i,j] += (q * (j - qy))/ denom\n",
    "                    Ey[i,j] += (q * (i - qx))/ denom\n",
    "    u.append(Ex)\n",
    "    v.append(Ey)\n",
    "    vv.append(qy)\n",
    "    uu.append(qx)"
   ]
  },
  {
   "cell_type": "code",
   "execution_count": 3,
   "metadata": {},
   "outputs": [],
   "source": [
    "ex = []\n",
    "ey = []\n",
    "for i in range(len(u)): \n",
    "    #ex.append(uu[i])\n",
    "    #ey.append(vv[i])\n",
    "    for j in range(20): \n",
    "        for k in range(20): \n",
    "            ex.append(u[i][j][k])\n",
    "            ey.append(v[i][j][k])"
   ]
  },
  {
   "cell_type": "code",
   "execution_count": 26,
   "metadata": {},
   "outputs": [],
   "source": [
    "ex = asarray(ex)\n",
    "X = ex.reshape(num_images,400)\n",
    "np.savetxt('X(%d).txt' %(num_images),X) "
   ]
  },
  {
   "cell_type": "code",
   "execution_count": 27,
   "metadata": {},
   "outputs": [],
   "source": [
    "num_charge = []\n",
    "for i in range(len(qq)): \n",
    "    num_charge.append(qq[i])\n",
    "    #for i in range(399):\n",
    "     #   num_charge.append(0)\n",
    "np.savetxt('labels(%d).txt'%(num_images),num_charge)"
   ]
  },
  {
   "cell_type": "code",
   "execution_count": 9,
   "metadata": {},
   "outputs": [],
   "source": [
    "#np.savetxt('DATA(TRIAL).txt', np.c_[ex,ey,num_charge],fmt='%25s')"
   ]
  }
 ],
 "metadata": {
  "kernelspec": {
   "display_name": "Python 3",
   "language": "python",
   "name": "python3"
  },
  "language_info": {
   "codemirror_mode": {
    "name": "ipython",
    "version": 3
   },
   "file_extension": ".py",
   "mimetype": "text/x-python",
   "name": "python",
   "nbconvert_exporter": "python",
   "pygments_lexer": "ipython3",
   "version": "3.7.6"
  }
 },
 "nbformat": 4,
 "nbformat_minor": 2
}
